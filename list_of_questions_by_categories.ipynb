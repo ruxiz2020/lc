{
 "cells": [
  {
   "cell_type": "code",
   "execution_count": 2,
   "id": "3637cee0",
   "metadata": {},
   "outputs": [],
   "source": [
    "from emoji import demojize"
   ]
  },
  {
   "cell_type": "code",
   "execution_count": 10,
   "id": "a1bcd964",
   "metadata": {},
   "outputs": [
    {
     "data": {
      "text/plain": [
       "'Apka zehr mjh pe b nae axr kry ga i hv antizehr of ur zehr  unamused_face smiling_face_with_smiling_eyes'"
      ]
     },
     "execution_count": 10,
     "metadata": {},
     "output_type": "execute_result"
    }
   ],
   "source": [
    "text = \"Apka zehr mjh pe b nae axr kry ga i hv antizehr of ur zehr 😒😊\"\n",
    "demojize(text, delimiters=(\" \", \"\"))"
   ]
  },
  {
   "cell_type": "code",
   "execution_count": 11,
   "id": "6659ca23",
   "metadata": {},
   "outputs": [
    {
     "data": {
      "text/plain": [
       "'smiling face with smiling eyes'"
      ]
     },
     "execution_count": 11,
     "metadata": {},
     "output_type": "execute_result"
    }
   ],
   "source": [
    "' '.join('smiling_face_with_smiling_eyes'.split('_'))"
   ]
  },
  {
   "cell_type": "code",
   "execution_count": 12,
   "id": "7278be72",
   "metadata": {},
   "outputs": [
    {
     "data": {
      "text/plain": [
       "'Apka zehr mjh pe b nae axr kry ga i hv antizehr of ur zehr unamused facesmiling face with smiling eyes'"
      ]
     },
     "execution_count": 12,
     "metadata": {},
     "output_type": "execute_result"
    }
   ],
   "source": [
    "def convert_emoji_to_text(text):\n",
    "\n",
    "  text = demojize(text, delimiters=(\"\", \"\"))\n",
    "\n",
    "  text = ' '.join(text.split('_'))\n",
    "\n",
    "  return text\n",
    "\n",
    "convert_emoji_to_text(text)"
   ]
  },
  {
   "cell_type": "code",
   "execution_count": null,
   "id": "473e711b",
   "metadata": {},
   "outputs": [],
   "source": []
  }
 ],
 "metadata": {
  "kernelspec": {
   "display_name": "Python 3",
   "language": "python",
   "name": "python3"
  },
  "language_info": {
   "codemirror_mode": {
    "name": "ipython",
    "version": 3
   },
   "file_extension": ".py",
   "mimetype": "text/x-python",
   "name": "python",
   "nbconvert_exporter": "python",
   "pygments_lexer": "ipython3",
   "version": "3.7.4"
  }
 },
 "nbformat": 4,
 "nbformat_minor": 5
}
